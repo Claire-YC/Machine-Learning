{
 "cells": [
  {
   "cell_type": "markdown",
   "metadata": {},
   "source": [
    "## LeNet-5 数据集MNIST\n",
    "![](LeNet-5_layers.png) \n",
    "注：<br>\n",
    "图片中的层次结构是没有经过padding的，所以在第一次全连阶时神经元个数为16\\*4\\*4。<br>\n",
    "若在第一次卷积时，经过2-padding，则是16\\*5\\*5"
   ]
  },
  {
   "cell_type": "markdown",
   "metadata": {},
   "source": [
    "### 导入神经网络需要的包"
   ]
  },
  {
   "cell_type": "code",
   "execution_count": null,
   "metadata": {},
   "outputs": [],
   "source": [
    "import torch\n",
    "import torch.nn as nn             # 专门为神经网络设计的模块化接口\n",
    "import torch.nn.functional as F   # 包含很多CNN需要的函数，如激活函数、dropout函数\n",
    "import torch.optim as optim       # 包含CNN需要的优化器，用于后向传播更新参数\n",
    "from torchvision import datasets, transforms  # 加载数据集，对数据集进行处理"
   ]
  },
  {
   "cell_type": "markdown",
   "metadata": {},
   "source": [
    "### 设定超级参数"
   ]
  },
  {
   "cell_type": "code",
   "execution_count": null,
   "metadata": {},
   "outputs": [],
   "source": [
    "BATCH_SIZE = 512 #一次训练所抓取的数据样本数量\n",
    "EPOCHS = 20 # 总训练次数\n",
    "\n",
    "# 让torch判断是否使用GPU（更快） 但是目前Mac还不支持GPU，可以放到Colab上\n",
    "DEVICE = torch.device(\"cuda\" if torch.cuda.is_available() else \"cpu\") "
   ]
  },
  {
   "cell_type": "markdown",
   "metadata": {},
   "source": [
    "### 载入数据\n",
    "#### 训练集-batch_size x 1 x 28 x28\n",
    "一共有batch_size张图片，图片是单通道（黑白），长宽为28"
   ]
  },
  {
   "cell_type": "code",
   "execution_count": null,
   "metadata": {},
   "outputs": [],
   "source": [
    "train_loader = torch.utils.data.DataLoader(  # 这个数据可以也载入自定义数据\n",
    "        datasets.MNIST('data', train=True, download=True, \n",
    "                       transform=transforms.Compose([\n",
    "                           transforms.ToTensor(), # 把数据变为tensor的形式\n",
    "                           \n",
    "                           # 归一化：data减去它的均值，再除以它的标准差。这两个值是官方给定好的值\n",
    "                           transforms.Normalize((0.1307,), (0.3081,)) \n",
    "                       ])), \n",
    "        batch_size=BATCH_SIZE, shuffle=True)  # shuffle随机打乱操作\n",
    "\n",
    "# 这是一个数据加载器，用来把训练数据分成多个小组，此函数每次抛出一组数据，数据大小为batch_size\n",
    "# 每组数据都会进行一次梯度下降，对于整个数据集来说，一次训练，总共进行了(total/batch_size)次"
   ]
  },
  {
   "cell_type": "markdown",
   "metadata": {},
   "source": [
    "#### 测试集"
   ]
  },
  {
   "cell_type": "code",
   "execution_count": null,
   "metadata": {},
   "outputs": [],
   "source": [
    "test_loader = torch.utils.data.DataLoader(\n",
    "        datasets.MNIST('data', train=False, \n",
    "                       transform=transforms.Compose([\n",
    "                           transforms.ToTensor(),\n",
    "                           transforms.Normalize((0.1307,), (0.3081,))\n",
    "                       ])),\n",
    "        batch_size=BATCH_SIZE, shuffle=True)"
   ]
  },
  {
   "cell_type": "markdown",
   "metadata": {},
   "source": [
    "### 构建网络"
   ]
  },
  {
   "cell_type": "code",
   "execution_count": null,
   "metadata": {},
   "outputs": [],
   "source": [
    "class LeNet5(nn.Module):\n",
    "\n",
    "    def __init__(self):\n",
    "        super(LeNet5, self).__init__()\n",
    "        \n",
    "        # kernel\n",
    "        self.conv1 = nn.Conv2d(1, 6, 5, padding=2)  # 1 input image channel, 6 output channels, 5x5 square convolution\n",
    "        self.conv2 = nn.Conv2d(6, 16, 5) # 输入通道6， 输出通道16， 卷积核5x5\n",
    "        \n",
    "        # an affine operation: y = Wx + b\n",
    "        # 【本来这里论文中是最后一个卷积层，但是官网代码写的是线性层】\n",
    "        self.fc1 = nn.Linear(16*5*5, 120) # 神经元个数计算 = kernel的个数 * 图片现存大小\n",
    "        \n",
    "        # 【真正意义上】全连接层：对特征进行计算\n",
    "        self.fc2 = nn.Linear(120, 84)  # 全连接函数为线性函数：y = Wx + b，并将120个节点连接到84个节点上。\n",
    "        self.fc3 = nn.Linear(84, 10)   # “84” 好像是什么图像的大小？？\n",
    "\n",
    "    def forward(self, x): #（卷积1-激活）-池化-（卷积2-激活）-池化-整合为一维-（全连阶1-激活）-（全连阶2-激活）-全连阶3\n",
    "        # Max pooling over a (2, 2) window\n",
    "        x = F.max_pool2d(F.relu(self.conv1(x)), (2, 2))\n",
    "        # If the size is a square you can only specify a single number\n",
    "        x = F.max_pool2d(F.relu(self.conv2(x)), 2)\n",
    "        \n",
    "        x = x.view(x.shape[0], -1)\n",
    "        x = F.relu(self.fc1(x)) #输入x经过全连接1，再经过ReLU激活函数，然后更新x\n",
    "        x = F.relu(self.fc2(x))\n",
    "        x = self.fc3(x)\n",
    "        \n",
    "        # 计算log(softmax(x)) 每个输出分类的结果都赋予一个概率值【以“行”为单位进行处理】\n",
    "#         x = F.log_softmax(x, dim=1) \n",
    "        return x"
   ]
  },
  {
   "cell_type": "markdown",
   "metadata": {},
   "source": [
    "### 选择优化器"
   ]
  },
  {
   "cell_type": "code",
   "execution_count": null,
   "metadata": {},
   "outputs": [],
   "source": [
    "model = LeNet5().to(DEVICE)\n",
    "optimizer = optim.Adam(model.parameters())\n",
    "\n",
    "# 设定损失函数\n",
    "criterion = nn.CrossEntropyLoss() \n",
    "# CrossEntropyLoss是log_softmax+nll_loss的合并"
   ]
  },
  {
   "cell_type": "markdown",
   "metadata": {},
   "source": [
    "### 构建训练函数"
   ]
  },
  {
   "cell_type": "code",
   "execution_count": null,
   "metadata": {},
   "outputs": [],
   "source": [
    "def train(model, device, train_loader, optimizer, epoch):\n",
    "    model.train()\n",
    "    for batch_idx, (data, target) in enumerate(train_loader):\n",
    "        data, target = data.to(device), target.to(device) #把数据移到GPU上\n",
    "        \n",
    "        optimizer.zero_grad() # 清除之前的误差\n",
    "        \n",
    "        output = model(data)  # 训练数据，得到结果\n",
    "        \n",
    "#         loss = F.nll_loss(output, target) # 计算误差\n",
    "        loss = criterion(output, target) \n",
    "        \n",
    "        loss.backward()  #反向传播，更新参数\n",
    "        optimizer.step()\n",
    "        \n",
    "        if(batch_idx+1)%30 == 0: \n",
    "            print('Train Epoch: {} [{}/{} ({:.0f}%)]\\tLoss: {:.6f}'.format(\n",
    "                epoch, batch_idx * len(data), len(train_loader.dataset),\n",
    "                100. * batch_idx / len(train_loader), loss.item()))"
   ]
  },
  {
   "cell_type": "markdown",
   "metadata": {},
   "source": [
    "### 构建测试函数\n",
    "model.train() 和 model.eval() 一般在模型训练和评价的时候会加上这两句，主要是针对由于model 在训练时和评价时 Batch Normalization 和 Dropout 方法模式不同；（暂时先记住）"
   ]
  },
  {
   "cell_type": "code",
   "execution_count": null,
   "metadata": {},
   "outputs": [],
   "source": [
    "def test(model, device, test_loader):\n",
    "    model.eval()\n",
    "    test_loss = 0\n",
    "    correct = 0\n",
    "    with torch.no_grad(): # 暂时不追踪参数的梯度？？\n",
    "        for data, target in test_loader:\n",
    "            data, target = data.to(device), target.to(device)\n",
    "            \n",
    "            output = model(data) # 给出预测\n",
    "            \n",
    "            test_loss += F.nll_loss(output, target, reduction='sum').item() # 将一批的损失相加\n",
    "            pred = output.max(1, keepdim=True)[1] # 找到概率最大的下标\n",
    "            correct += pred.eq(target.view_as(pred)).sum().item()\n",
    "\n",
    "    test_loss /= len(test_loader.dataset)\n",
    "    print('\\nTest set: Average loss: {:.4f}, Accuracy: {}/{} ({:.0f}%)\\n'.format(\n",
    "        test_loss, correct, len(test_loader.dataset),\n",
    "        100. * correct / len(test_loader.dataset)))"
   ]
  },
  {
   "cell_type": "markdown",
   "metadata": {},
   "source": [
    "### 主函数-训练与检测"
   ]
  },
  {
   "cell_type": "code",
   "execution_count": null,
   "metadata": {},
   "outputs": [],
   "source": [
    "for epoch in range(1, EPOCHS + 1):\n",
    "    train(model, DEVICE, train_loader, optimizer, epoch)\n",
    "    test(model, DEVICE, test_loader)"
   ]
  },
  {
   "cell_type": "code",
   "execution_count": null,
   "metadata": {},
   "outputs": [],
   "source": []
  }
 ],
 "metadata": {
  "kernelspec": {
   "display_name": "Python [conda env:pytorch]",
   "language": "python",
   "name": "conda-env-pytorch-py"
  },
  "language_info": {
   "codemirror_mode": {
    "name": "ipython",
    "version": 3
   },
   "file_extension": ".py",
   "mimetype": "text/x-python",
   "name": "python",
   "nbconvert_exporter": "python",
   "pygments_lexer": "ipython3",
   "version": "3.7.6"
  },
  "toc": {
   "base_numbering": 1,
   "nav_menu": {},
   "number_sections": true,
   "sideBar": true,
   "skip_h1_title": false,
   "title_cell": "Table of Contents",
   "title_sidebar": "Contents",
   "toc_cell": false,
   "toc_position": {
    "height": "calc(100% - 180px)",
    "left": "10px",
    "top": "150px",
    "width": "165px"
   },
   "toc_section_display": true,
   "toc_window_display": true
  }
 },
 "nbformat": 4,
 "nbformat_minor": 4
}
